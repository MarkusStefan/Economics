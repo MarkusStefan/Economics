{
  "nbformat": 4,
  "nbformat_minor": 0,
  "metadata": {
    "colab": {
      "private_outputs": true,
      "provenance": [],
      "authorship_tag": "ABX9TyObbGz5MhtveX20/aWUOZC1",
      "include_colab_link": true
    },
    "kernelspec": {
      "name": "python3",
      "display_name": "Python 3"
    },
    "language_info": {
      "name": "python"
    }
  },
  "cells": [
    {
      "cell_type": "markdown",
      "metadata": {
        "id": "view-in-github",
        "colab_type": "text"
      },
      "source": [
        "<a href=\"https://colab.research.google.com/github/MarkusStefan/Economics/blob/main/Int_Macro_Ex3.ipynb\" target=\"_parent\"><img src=\"https://colab.research.google.com/assets/colab-badge.svg\" alt=\"Open In Colab\"/></a>"
      ]
    },
    {
      "cell_type": "markdown",
      "source": [
        "#(a) \n",
        "Download annual data for 2000–2021 for GDP (“GDP growth (annual %)”) and government expenditures G (“General government final consumption expendi\u0002ture (annual % growth)”) for all available G20 countries from the [Worldbank homepage](https://data.worldbank.org/indicator/NE.CON.GOVT.KD.ZG?end=2021&start=2000&view=chart)"
      ],
      "metadata": {
        "id": "_Gj_QXduywAP"
      }
    },
    {
      "cell_type": "markdown",
      "source": [
        "# Importing the Data\n",
        "- modify it into a useful format"
      ],
      "metadata": {
        "id": "g25uWYpedxHb"
      }
    },
    {
      "cell_type": "markdown",
      "source": [
        "## GDP Growth rate (%$Δ$ per annum)"
      ],
      "metadata": {
        "id": "TxSlkB6gel5N"
      }
    },
    {
      "cell_type": "code",
      "execution_count": null,
      "metadata": {
        "id": "jsQKHMXaMoa5"
      },
      "outputs": [],
      "source": [
        "import pandas as pd\n",
        "\n",
        "Y_growth = pd.read_csv(\"https://raw.githubusercontent.com/MarkusStefan/Economics/main/GDP-growth.csv\", \n",
        "                       skiprows=4)\n",
        "Y_growth.head(3)"
      ]
    },
    {
      "cell_type": "markdown",
      "source": [
        "#### remove unnecessary columns & switch rows with cols (transposing)"
      ],
      "metadata": {
        "id": "c5qG7MxpOpLr"
      }
    },
    {
      "cell_type": "code",
      "source": [
        "Y_growth.columns[-23 :-1]"
      ],
      "metadata": {
        "id": "yjDbJcoMOoeU"
      },
      "execution_count": null,
      "outputs": []
    },
    {
      "cell_type": "code",
      "source": [
        "Y = Y_growth.iloc[:, -23:-1]\n",
        "#Y = Y_growth[[Y_growth.columns[0]] + Y_growth.columns[-23:-1].tolist()]\n",
        "Y.index = Y_growth.iloc[:, 0]\n",
        "Y = Y.transpose()\n",
        "#Y.rename({'Country Name':'Year'}, inplace=True)\n",
        "Y.head(5)"
      ],
      "metadata": {
        "id": "Da36PGmMPEKt"
      },
      "execution_count": null,
      "outputs": []
    },
    {
      "cell_type": "markdown",
      "source": [
        "## Government Spending Growth Rate (%$Δ$ per annum)\n"
      ],
      "metadata": {
        "id": "6p-uk8VmfF1M"
      }
    },
    {
      "cell_type": "code",
      "source": [
        "G_growth = pd.read_csv(\"https://raw.githubusercontent.com/MarkusStefan/Economics/main/Gov-Exp-Growth.csv\", \n",
        "                       skiprows=4)\n",
        "G_growth.head(3)"
      ],
      "metadata": {
        "id": "P29BYAM4ReYZ"
      },
      "execution_count": null,
      "outputs": []
    },
    {
      "cell_type": "code",
      "source": [
        "#G = G_growth[[G_growth.columns[0]] + G_growth.columns[-23:-1].tolist()]\n",
        "G = G_growth.iloc[:, -23:-1]\n",
        "G.index = G_growth.iloc[:, 0]\n",
        "G = G.transpose()\n",
        "G.head(5)"
      ],
      "metadata": {
        "id": "fUcCYf0SR3a2"
      },
      "execution_count": null,
      "outputs": []
    },
    {
      "cell_type": "markdown",
      "source": [
        "### Selecting G20 countries only"
      ],
      "metadata": {
        "id": "0uXxVHV_feuj"
      }
    },
    {
      "cell_type": "code",
      "source": [
        "G20_list = ['Argentina', 'Australia', 'Brazil', 'Canada', 'China', 'European Union', \n",
        "       'France', 'Germany', 'India', 'Indonesia', 'Italy', 'Japan', 'Mexico', \n",
        "       'Russia', 'Saudi Arabia', 'South Africa', 'South Korea', 'Turkey', \n",
        "       'United Kingdom', 'United States']\n",
        "G20_list"
      ],
      "metadata": {
        "id": "dmK6DH_OoHLb"
      },
      "execution_count": null,
      "outputs": []
    },
    {
      "cell_type": "code",
      "source": [
        "\n",
        "# compute the intersection to see which countries are available in the data sets\n",
        "G20 = set(G20_list) & set(Y.columns.tolist()) & set(G.columns.tolist())\n",
        "# countries member of G20 but not available\n",
        "na = set(G20_list) - G20\n",
        "print(f\"G20-members not available:\\t %s\" %([c for c in na]))"
      ],
      "metadata": {
        "id": "8bHFU19GpVKn"
      },
      "execution_count": null,
      "outputs": []
    },
    {
      "cell_type": "code",
      "source": [
        "# another option without using set theory\n",
        "'''\n",
        "for i, country in enumerate(G20):\n",
        "  if (country not in Y.columns.tolist()) or (country not in G.columns.tolist()):\n",
        "    print(i, country)\n",
        "    G20.pop(i)\n",
        "'''"
      ],
      "metadata": {
        "id": "LACfA1kMdv5k"
      },
      "execution_count": null,
      "outputs": []
    },
    {
      "cell_type": "code",
      "source": [
        "G20 = list(G20)\n",
        "# removing China due to NaN values\n",
        "G20.remove('China')\n",
        "Y = Y[G20]\n",
        "G = G[G20]\n",
        "Y; G"
      ],
      "metadata": {
        "id": "Qilk1Erii8EB"
      },
      "execution_count": null,
      "outputs": []
    },
    {
      "cell_type": "markdown",
      "source": [
        "#(b) \n",
        "For each of the countries you should calculate the correlation between GDP and G in the following ways:\n"
      ],
      "metadata": {
        "id": "F3O48sarzGQ1"
      }
    },
    {
      "cell_type": "markdown",
      "source": [
        "- Function for computing the correlation between the two Data Frames"
      ],
      "metadata": {
        "id": "YwyqOIyjznBR"
      }
    },
    {
      "cell_type": "code",
      "source": [
        "def correlation(df1, df2, table=False):\n",
        "  if df1.columns.tolist() != df2.columns.tolist():\n",
        "    return \"unbalanced dataframes!\"\n",
        "\n",
        "  corr_l = []\n",
        "  if table:\n",
        "    print(\"%39s - %s\\n\" %(df1.index[0], df2.index[-1]))\n",
        "  for i, col in enumerate(df1.columns.tolist()):\n",
        "    corrcoef = df1[col].corr(df2[col])\n",
        "    corr_l.append(corrcoef)\n",
        "    if not table:\n",
        "      continue\n",
        "    if corrcoef < 0:\n",
        "      print(\"%20s: corr(Y,G)\\t\\t=\\t%s\" %(col, round(corrcoef,6)))\n",
        "    else: \n",
        "      print(\"%20s: corr(Y,G)\\t\\t=\\t %s\" %(col, round(corrcoef,6)))\n",
        "  if not table:\n",
        "    return corr_l\n",
        "\n",
        "#correlation(Y, G)"
      ],
      "metadata": {
        "id": "y4g0AEz1sS6H"
      },
      "execution_count": null,
      "outputs": []
    },
    {
      "cell_type": "markdown",
      "source": [
        "## (i) \n",
        "calculate the correlation between GDP and G for the years 2000–2019\n"
      ],
      "metadata": {
        "id": "A71_u-hLzOta"
      }
    },
    {
      "cell_type": "code",
      "source": [
        "# remove the last 2 years (2021, 2020)\n",
        "Y_, G_ = Y.iloc[:-2, :], G.iloc[:-2, :]\n",
        "Y_.tail(3)"
      ],
      "metadata": {
        "id": "COufVXAXzyma"
      },
      "execution_count": null,
      "outputs": []
    },
    {
      "cell_type": "code",
      "source": [
        "correlation(Y_, G_, table=True)"
      ],
      "metadata": {
        "id": "73M7NNoJ0Jmr"
      },
      "execution_count": null,
      "outputs": []
    },
    {
      "cell_type": "markdown",
      "source": [
        "## (ii) \n",
        "calculate the correlation between GDP and G for the years 2000–2021"
      ],
      "metadata": {
        "id": "rYZxpsJSzTUL"
      }
    },
    {
      "cell_type": "code",
      "source": [
        "correlation(Y, G, table=True)"
      ],
      "metadata": {
        "id": "yKM2ADw_18d2"
      },
      "execution_count": null,
      "outputs": []
    },
    {
      "cell_type": "markdown",
      "source": [
        "## (iii) \n",
        "briefly discuss the obtained results"
      ],
      "metadata": {
        "id": "Lr27nvq2zaHu"
      }
    },
    {
      "cell_type": "code",
      "source": [
        "import matplotlib.pyplot as plt\n",
        "\n",
        "# difference between correlations 2021 - 2019\n",
        "corr21, corr19 = correlation(Y, G, table=False), correlation(Y_, G_, table=False)\n",
        "diff = [x21-x19 for x21, x19 in zip(\n",
        "    corr21, corr19)\n",
        "]\n",
        "plt.figure(figsize=(12,9))\n",
        "plt.plot(Y.columns, diff)\n",
        "plt.plot(Y.columns, [0]*len(Y.columns), color='k', linestyle='dashed')\n",
        "plt.scatter(Y.columns, diff, color='red')\n",
        "plt.xticks(rotation = 90, size=10)\n",
        "plt.ylabel('difference')\n",
        "plt.title('Difference of Correlations (until_2021 - until_2019)', size=20)\n",
        "plt.show()"
      ],
      "metadata": {
        "id": "4pG63GY22Dcc"
      },
      "execution_count": null,
      "outputs": []
    },
    {
      "cell_type": "code",
      "source": [
        "plt.figure(figsize=(12,9))\n",
        "plt.plot(Y.columns, correlation(Y, G), color='g', linewidth=3)\n",
        "plt.plot(Y_.columns, correlation(Y_, G_), color='orange', linewidth=3)\n",
        "plt.plot(Y.columns, [0]*len(Y.columns), color='k', linestyle='dashed', linewidth=1)\n",
        "plt.xticks(rotation = 90, size=10)\n",
        "plt.ylabel('corr.coef.')\n",
        "plt.title('Correlation Coefficients (until_2021 - until_2019)', size=20)\n",
        "plt.legend(['2021','2019'])\n",
        "plt.show()"
      ],
      "metadata": {
        "id": "bh9MjL3bQ24F"
      },
      "execution_count": null,
      "outputs": []
    },
    {
      "cell_type": "markdown",
      "source": [
        "Accordingly, increased Government spending had a strongly negative impact on GDP growth in Australia. Conversely, in France, it was highly effective to stimulate the economy after the Covid-19 crisis.\n",
        "The relationship between government deficit spending and GDP growth is of extreme importance for economic policy making, especially in times of economic downturns as has been experienced in the US and around the world in recent years. There are studies arguing that deficit spending has an adverse effect on the GDP by way of increasing the interest rate and hindering business investment1. Other studies argue for deficit spending at a time of recession as being beneficial in that it spurs demand and has no effect on interest rate."
      ],
      "metadata": {
        "id": "OXkTP4GEQkrm"
      }
    },
    {
      "cell_type": "code",
      "source": [
        "plt.figure(figsize=(12,9))\n",
        "for c in Y.columns:\n",
        "  plt.plot(Y.index, Y[c])\n",
        "\n",
        "plt.legend(Y.columns, bbox_to_anchor=(1.2, 0.5), loc='center')\n",
        "plt.plot(Y.index, [0]*len(Y.index), color='k', linestyle='dashed', linewidth=1)\n",
        "plt.xticks(rotation=45)\n",
        "plt.title('GDP growth %', size=20)\n",
        "plt.show()"
      ],
      "metadata": {
        "id": "EfK4KHK8VY5D"
      },
      "execution_count": null,
      "outputs": []
    },
    {
      "cell_type": "code",
      "source": [
        "plt.figure(figsize=(12,9))\n",
        "for c in G.columns:\n",
        "  plt.plot(G.index, G[c])\n",
        "\n",
        "plt.legend(G.columns, bbox_to_anchor=(1.2, 0.5), loc='center')\n",
        "plt.plot(Y.index, [0]*len(Y.index), color='k', linestyle='dashed', linewidth=1)\n",
        "plt.xticks(rotation=45)\n",
        "plt.title('Government Spending growth %', size=20)\n",
        "plt.show()"
      ],
      "metadata": {
        "id": "kwCoXTWaX-ZB"
      },
      "execution_count": null,
      "outputs": []
    },
    {
      "cell_type": "markdown",
      "source": [
        "# c) \n",
        "Generate a scatter plot (including the “linear trend line”) for the country with the highest positive and for the country with the highest negative correlation in (b)(ii).\n",
        "\n",
        "- highest corr: France\n",
        "- lowest (negative) corr: Australia"
      ],
      "metadata": {
        "id": "qKLGA3Yj5oiZ"
      }
    },
    {
      "cell_type": "code",
      "source": [
        "import matplotlib.pyplot as plt\n",
        "import seaborn as sns\n",
        "\n",
        "plt.figure(figsize=(10,8))\n",
        "\n",
        "sns.set(style='whitegrid')\n",
        "\n",
        "#sns.scatterplot(x=Y['France'], y=G['France'])\n",
        "\n",
        "reg = sns.regplot(x=Y['France'], y=G['France'], ci=None, line_kws={\"color\": \"C1\"})\n",
        "plt.xlabel('GDP'); plt.ylabel('Government Spending'); plt.title('Regression Plot France')\n",
        "plt.show()"
      ],
      "metadata": {
        "id": "1LFIwXUR5ur5"
      },
      "execution_count": null,
      "outputs": []
    },
    {
      "cell_type": "code",
      "source": [
        "from sklearn.linear_model import LinearRegression\n",
        "import numpy as np\n",
        "\n",
        "# predictor must be 2d-array: n rows, 1 col\n",
        "x = np.array(Y['France']).reshape((-1, 1))\n",
        "# dependent var must be 1d-array\n",
        "y = np.array(G['France'])\n",
        "\n",
        "lm = LinearRegression\n",
        "model = lm().fit(x, y)\n",
        "print(\"France\\nbeta_0: \",model.intercept_,\"\\nbeta_1: \", model.coef_[0])"
      ],
      "metadata": {
        "id": "cn6R1a12KYPP"
      },
      "execution_count": null,
      "outputs": []
    },
    {
      "cell_type": "code",
      "source": [
        "plt.figure(figsize=(10,8))\n",
        "\n",
        "sns.set(style='whitegrid')\n",
        "\n",
        "#sns.scatterplot(x=Y['France'], y=G['France'])\n",
        "\n",
        "reg = sns.regplot(x=Y['Australia'], y=G['Australia'], ci=None, line_kws={\"color\": \"C1\"})\n",
        "plt.xlabel('GDP'); plt.ylabel('Government Spending'); plt.title('Regression Plot Australia')\n",
        "plt.show()"
      ],
      "metadata": {
        "id": "X4OTKtYeHvyK"
      },
      "execution_count": null,
      "outputs": []
    },
    {
      "cell_type": "code",
      "source": [
        "# 2d-array: n rows, 1 col\n",
        "x = np.array(Y['Australia']).reshape((-1, 1))\n",
        "# dependent var must be 1d-array\n",
        "y = np.array(G['Australia'])\n",
        "\n",
        "lm = LinearRegression\n",
        "model = lm().fit(x, y)\n",
        "print(\"Australia\\nbeta_0:  \",model.intercept_,\"\\nbeta_1: \", model.coef_[0])"
      ],
      "metadata": {
        "id": "yWfxawNyH5tD"
      },
      "execution_count": null,
      "outputs": []
    }
  ]
}